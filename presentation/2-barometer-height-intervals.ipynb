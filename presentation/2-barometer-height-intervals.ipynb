{
 "cells": [
  {
   "cell_type": "markdown",
   "id": "15481d97-9a07-4f16-b750-fc1449afaeb7",
   "metadata": {},
   "source": [
    "# 2 Refining the building height with intervals\n"
   ]
  },
  {
   "cell_type": "code",
   "execution_count": null,
   "id": "029af91d-3608-4ec3-9a16-633fcad9a5e9",
   "metadata": {
    "tags": []
   },
   "outputs": [],
   "source": [
    "from propnet import *"
   ]
  },
  {
   "cell_type": "code",
   "execution_count": null,
   "id": "c2deb610-a01b-4588-bd25-c79e6da22e5b",
   "metadata": {
    "tags": []
   },
   "outputs": [],
   "source": [
    "shadows = \"\"\"\n",
    "flowchart LR\n",
    "    times_hba{{*}}\n",
    "    times_h{{*}}\n",
    "    ratio[hba/sba]\n",
    "\n",
    "    sba <--> times_hba\n",
    "    ratio <--> times_hba\n",
    "    times_hba <--> hba\n",
    "    s <--> times_h\n",
    "    ratio <--> times_h\n",
    "    times_h <--> h\n",
    "\"\"\"\n",
    "combined=\"\"\"\n",
    "flowchart LR\n",
    "    sq{{^2}}\n",
    "    times_gt2{{*}}\n",
    "    times_h{{*}}\n",
    "    half[1/2]\n",
    "    t2[t^2]\n",
    "    gt2[g*t^2]\n",
    "\n",
    "    times_hba{{*}}\n",
    "    times_hs{{*}}\n",
    "    ratio[hba/sba]\n",
    "\n",
    "    t <--> sq\n",
    "    sq <--> t2\n",
    "    t2 <--> times_gt2\n",
    "    g <--> times_gt2\n",
    "    times_gt2 <--> gt2\n",
    "    gt2 <--> times_h\n",
    "    half <--> times_h\n",
    "    times_h <--> h\n",
    "\n",
    "    times_hba <--> ratio\n",
    "    times_hba <--> sba\n",
    "    hba <--> times_hba\n",
    "    times_hs <--> s\n",
    "    times_hs <--> ratio\n",
    "    h <--> times_hs\n",
    "\"\"\""
   ]
  },
  {
   "cell_type": "markdown",
   "id": "eddea52e-a1aa-4bbd-acfc-6ff1948b6195",
   "metadata": {},
   "source": [
    "Building height:\n",
    "$$\n",
    "h_{\\text{fall time}} = \\frac{1}{2} g t^2 \\qquad\\qquad h_{\\text{shadows}} = s \\frac{h_{ba}}{s_{ba}}\n",
    "$$"
   ]
  },
  {
   "cell_type": "code",
   "execution_count": null,
   "id": "47f27f95-7a8f-4a8d-a50b-fccddf8e4acb",
   "metadata": {
    "tags": []
   },
   "outputs": [],
   "source": [
    "mermaid(shadows)"
   ]
  },
  {
   "cell_type": "code",
   "execution_count": null,
   "id": "9559093c-ba96-49c2-b18c-4cc788331b6b",
   "metadata": {
    "tags": []
   },
   "outputs": [],
   "source": [
    "mermaid(combined)"
   ]
  },
  {
   "cell_type": "markdown",
   "id": "92433460-333d-438f-88fb-5a7ada06c987",
   "metadata": {},
   "source": [
    "## Fall time with intervals\n",
    "\n",
    "Same network as before for fall time measurement:"
   ]
  },
  {
   "cell_type": "code",
   "execution_count": null,
   "id": "ba36b33d-ad74-4de7-a910-df83debc3c17",
   "metadata": {
    "tags": []
   },
   "outputs": [],
   "source": [
    "net = Network()\n",
    "g = net.add_cell('g', Cell(Datum(9.81)))\n",
    "half = net.add_cell('half', Cell(Datum(0.5)))\n",
    "t2 = net.add_cell('t^2', Cell())\n",
    "gt2 = net.add_cell('gt^2', Cell())\n",
    "t = net.add_cell('t', Cell())\n",
    "h = net.add_cell('h', Cell())\n",
    "\n",
    "quadratic(t, t2, net=net)\n",
    "product_(g, t2, gt2, net=net)\n",
    "product_(half, gt2, h, net=net)"
   ]
  },
  {
   "cell_type": "code",
   "execution_count": null,
   "id": "2b58b0d3-9ee3-4733-8914-8d02a10be784",
   "metadata": {
    "tags": []
   },
   "outputs": [],
   "source": [
    "net['t'].add_content(Datum(Interval(2.9, 3.3)), net=net)"
   ]
  },
  {
   "cell_type": "code",
   "execution_count": null,
   "id": "86186072-4565-48af-8944-be272e00ae9a",
   "metadata": {
    "tags": []
   },
   "outputs": [],
   "source": [
    "net.run()"
   ]
  },
  {
   "cell_type": "code",
   "execution_count": null,
   "id": "cfe76852-32df-4b56-bb65-d0e7831264d6",
   "metadata": {
    "tags": []
   },
   "outputs": [],
   "source": [
    "print('h =', net['h'])"
   ]
  },
  {
   "cell_type": "markdown",
   "id": "8b37a934-b835-4841-8281-c1315a53d0a0",
   "metadata": {},
   "source": [
    "## Add shadow method"
   ]
  },
  {
   "cell_type": "code",
   "execution_count": null,
   "id": "0c833ee3-0408-448e-8f56-3152b7f65371",
   "metadata": {
    "tags": []
   },
   "outputs": [],
   "source": [
    "ratio = net.add_cell('ratio', Cell())\n",
    "hba = net.add_cell('hba', Cell())\n",
    "sba = net.add_cell('sba', Cell())\n",
    "s = net.add_cell('s', Cell())\n",
    "product_(sba, ratio, hba, net=net)\n",
    "product_(s, ratio, h, net=net)"
   ]
  },
  {
   "cell_type": "code",
   "execution_count": null,
   "id": "35136a67-14ea-4bb1-a083-8ed7132940bb",
   "metadata": {
    "tags": []
   },
   "outputs": [],
   "source": [
    "net['s'].add_content(Datum(Interval(54.9, 55.1)), net=net)\n",
    "net['hba'].add_content(Datum(Interval(0.3, 0.32)), net=net)\n",
    "net['sba'].add_content(Datum(Interval(0.36, 0.37)), net=net)"
   ]
  },
  {
   "cell_type": "code",
   "execution_count": null,
   "id": "cef526b5-6a71-4baa-9e24-e06d92a318e4",
   "metadata": {
    "tags": []
   },
   "outputs": [],
   "source": [
    "net.run()"
   ]
  },
  {
   "cell_type": "code",
   "execution_count": null,
   "id": "315da58c-060d-4e34-86f4-97f13eb1627b",
   "metadata": {
    "tags": []
   },
   "outputs": [],
   "source": [
    "print('h =', net['h'])"
   ]
  },
  {
   "cell_type": "markdown",
   "id": "c7b7b788-1ea1-4ad0-a355-5ab8ec9e53cc",
   "metadata": {},
   "source": [
    "Updated fall time as well!"
   ]
  },
  {
   "cell_type": "code",
   "execution_count": null,
   "id": "3c64ea86-a6d4-4425-b334-e7ad96de78aa",
   "metadata": {
    "tags": []
   },
   "outputs": [],
   "source": [
    "print('t =', net['t'])"
   ]
  }
 ],
 "metadata": {
  "kernelspec": {
   "display_name": "Python 3 (ipykernel)",
   "language": "python",
   "name": "python3"
  },
  "language_info": {
   "codemirror_mode": {
    "name": "ipython",
    "version": 3
   },
   "file_extension": ".py",
   "mimetype": "text/x-python",
   "name": "python",
   "nbconvert_exporter": "python",
   "pygments_lexer": "ipython3",
   "version": "3.10.9"
  }
 },
 "nbformat": 4,
 "nbformat_minor": 5
}
