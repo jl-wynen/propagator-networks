{
 "cells": [
  {
   "cell_type": "markdown",
   "id": "15481d97-9a07-4f16-b750-fc1449afaeb7",
   "metadata": {},
   "source": [
    "# 3 Dependency tracking"
   ]
  },
  {
   "cell_type": "code",
   "execution_count": null,
   "id": "029af91d-3608-4ec3-9a16-633fcad9a5e9",
   "metadata": {
    "tags": []
   },
   "outputs": [],
   "source": [
    "from propnet import *"
   ]
  },
  {
   "cell_type": "markdown",
   "id": "92433460-333d-438f-88fb-5a7ada06c987",
   "metadata": {},
   "source": [
    "Same network as before:"
   ]
  },
  {
   "cell_type": "code",
   "execution_count": null,
   "id": "312fd817-d29f-4518-bcb6-815d0108b1fd",
   "metadata": {
    "tags": []
   },
   "outputs": [],
   "source": [
    "net = Network()"
   ]
  },
  {
   "cell_type": "markdown",
   "id": "5786ffbe-5bef-4918-85c1-52d7295f4f7b",
   "metadata": {},
   "source": [
    "Fall time:"
   ]
  },
  {
   "cell_type": "code",
   "execution_count": null,
   "id": "ba36b33d-ad74-4de7-a910-df83debc3c17",
   "metadata": {
    "tags": []
   },
   "outputs": [],
   "source": [
    "g = net.add_cell('g', Cell(Datum(9.81)))\n",
    "half = net.add_cell('half', Cell(Datum(0.5)))\n",
    "t2 = net.add_cell('t^2', Cell())\n",
    "gt2 = net.add_cell('gt^2', Cell())\n",
    "t = net.add_cell('t', Cell())\n",
    "h = net.add_cell('h', Cell())\n",
    "\n",
    "quadratic(t, t2, net=net)\n",
    "product_(g, t2, gt2, net=net)\n",
    "product_(half, gt2, h, net=net)"
   ]
  },
  {
   "cell_type": "markdown",
   "id": "d265d9b0-e473-48a9-a825-2f200ab47b59",
   "metadata": {},
   "source": [
    "Shadows:"
   ]
  },
  {
   "cell_type": "code",
   "execution_count": null,
   "id": "9c0e5101-bab5-4648-bc5d-9e4725edb098",
   "metadata": {
    "tags": []
   },
   "outputs": [],
   "source": [
    "ratio = net.add_cell('ratio', Cell())\n",
    "hba = net.add_cell('hba', Cell())\n",
    "sba = net.add_cell('sba', Cell())\n",
    "s = net.add_cell('s', Cell())\n",
    "product_(sba, ratio, hba, net=net)\n",
    "product_(s, ratio, h, net=net)"
   ]
  },
  {
   "cell_type": "markdown",
   "id": "41eb1791-f18c-481c-9c0a-3873e324d6f3",
   "metadata": {},
   "source": [
    "## Shadows only"
   ]
  },
  {
   "cell_type": "code",
   "execution_count": null,
   "id": "ab755ec6-b42e-4e5b-94cc-3cac49c19be6",
   "metadata": {
    "tags": []
   },
   "outputs": [],
   "source": [
    "net['s'].add_content(Datum(Interval(54.9, 55.1), Support('shadows')), net=net)\n",
    "net['hba'].add_content(Datum(Interval(0.3, 0.32), Support('shadows')), net=net)\n",
    "net['sba'].add_content(Datum(Interval(0.36, 0.37), Support('shadows')), net=net)"
   ]
  },
  {
   "cell_type": "code",
   "execution_count": null,
   "id": "af759a08-598f-48f2-a301-e7dc3efe61a2",
   "metadata": {
    "tags": []
   },
   "outputs": [],
   "source": [
    "net.run()"
   ]
  },
  {
   "cell_type": "code",
   "execution_count": null,
   "id": "6d4060da-c54b-4575-a9c2-ca1c76e36d15",
   "metadata": {
    "tags": []
   },
   "outputs": [],
   "source": [
    "print('h =', net['h'])"
   ]
  },
  {
   "cell_type": "markdown",
   "id": "87776561-d524-4d78-941a-b0bb6ec41791",
   "metadata": {},
   "source": [
    "Determined fall time:"
   ]
  },
  {
   "cell_type": "code",
   "execution_count": null,
   "id": "b2285cbf-6973-4b04-aa9e-473ef0b78ea7",
   "metadata": {
    "tags": []
   },
   "outputs": [],
   "source": [
    "print('t =', net['t'])"
   ]
  },
  {
   "cell_type": "markdown",
   "id": "f6a7b501-3862-4a14-b19f-926f479e00b9",
   "metadata": {},
   "source": [
    "## Shit fall time"
   ]
  },
  {
   "cell_type": "code",
   "execution_count": null,
   "id": "1e18cb32-5787-496f-bc79-d6791f7dd479",
   "metadata": {
    "tags": []
   },
   "outputs": [],
   "source": [
    "net['t'].add_content(Datum(Interval(2.9, 3.3), Support('shit fall time')), net=net)"
   ]
  },
  {
   "cell_type": "code",
   "execution_count": null,
   "id": "86186072-4565-48af-8944-be272e00ae9a",
   "metadata": {
    "tags": []
   },
   "outputs": [],
   "source": [
    "net.run()"
   ]
  },
  {
   "cell_type": "code",
   "execution_count": null,
   "id": "cfe76852-32df-4b56-bb65-d0e7831264d6",
   "metadata": {
    "tags": []
   },
   "outputs": [],
   "source": [
    "print('h =', net['h'], '\\nt =', net['t'])"
   ]
  },
  {
   "cell_type": "markdown",
   "id": "8b37a934-b835-4841-8281-c1315a53d0a0",
   "metadata": {},
   "source": [
    "## Good fall time"
   ]
  },
  {
   "cell_type": "code",
   "execution_count": null,
   "id": "0c833ee3-0408-448e-8f56-3152b7f65371",
   "metadata": {
    "tags": []
   },
   "outputs": [],
   "source": [
    "net['t'].add_content(Datum(Interval(2.9, 3.1), Support('good fall time')), net=net)"
   ]
  },
  {
   "cell_type": "code",
   "execution_count": null,
   "id": "35136a67-14ea-4bb1-a083-8ed7132940bb",
   "metadata": {
    "tags": []
   },
   "outputs": [],
   "source": [
    "net.run()"
   ]
  },
  {
   "cell_type": "code",
   "execution_count": null,
   "id": "2809f8a1-1db2-4f7d-8807-6f66e627138b",
   "metadata": {
    "tags": []
   },
   "outputs": [],
   "source": [
    "print('h =', net['h'], '\\nt =', net['t'])"
   ]
  },
  {
   "cell_type": "markdown",
   "id": "fda4c55f-008c-4a9f-a3b9-59427dcce3cd",
   "metadata": {
    "execution": {
     "iopub.execute_input": "2023-01-24T12:43:46.243766Z",
     "iopub.status.busy": "2023-01-24T12:43:46.243042Z",
     "iopub.status.idle": "2023-01-24T12:43:46.249301Z",
     "shell.execute_reply": "2023-01-24T12:43:46.247931Z",
     "shell.execute_reply.started": "2023-01-24T12:43:46.243709Z"
    }
   },
   "source": [
    "## Asking the superintendent"
   ]
  },
  {
   "cell_type": "code",
   "execution_count": null,
   "id": "cdc99518-d23a-4068-8a61-2734a809fd6c",
   "metadata": {
    "tags": []
   },
   "outputs": [],
   "source": [
    "net['h'].add_content(Datum(45, Support('superintendent')), net=net)"
   ]
  },
  {
   "cell_type": "code",
   "execution_count": null,
   "id": "3412f5b2-53fa-42e2-9d78-f7b98a014676",
   "metadata": {
    "tags": []
   },
   "outputs": [],
   "source": [
    "net.run()"
   ]
  },
  {
   "cell_type": "code",
   "execution_count": null,
   "id": "cdaf2b63-a0c1-4366-bab6-0d18467567eb",
   "metadata": {
    "tags": []
   },
   "outputs": [],
   "source": [
    "print('h =', net['h'], '\\nt =', net['t'])"
   ]
  },
  {
   "cell_type": "markdown",
   "id": "2d13c202-5a1e-4efd-8cf8-7732fd13a219",
   "metadata": {},
   "source": [
    "But there are spurious dependencies."
   ]
  },
  {
   "cell_type": "markdown",
   "id": "acae7b63-e86d-405b-919b-33eb0a4fbb61",
   "metadata": {},
   "source": [
    "## Where to go from here\n",
    "\n",
    "- Alternate worldviews (*Truth Maintenance*)\n",
    "- Handle contradictions\n",
    "- Backtracking search to determine what caused a contradiction\n",
    "\n",
    "## There is a lot more in the thesis\n",
    "\n",
    "- Functional reactivity potentially fast & w/o glitches\n",
    "- Probabilistic programming with dependency tracking\n",
    "- Constraint satisfaction\n",
    "- Type inference\n",
    "- Turning this into a **programming language**"
   ]
  }
 ],
 "metadata": {
  "kernelspec": {
   "display_name": "Python 3 (ipykernel)",
   "language": "python",
   "name": "python3"
  },
  "language_info": {
   "codemirror_mode": {
    "name": "ipython",
    "version": 3
   },
   "file_extension": ".py",
   "mimetype": "text/x-python",
   "name": "python",
   "nbconvert_exporter": "python",
   "pygments_lexer": "ipython3",
   "version": "3.10.9"
  }
 },
 "nbformat": 4,
 "nbformat_minor": 5
}
