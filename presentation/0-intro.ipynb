{
 "cells": [
  {
   "cell_type": "markdown",
   "id": "8974da74-0323-46be-9e2b-a26da27a7a9b",
   "metadata": {},
   "source": [
    "# Propagation Networks\n",
    "**A Flexible and Expressive Substrate for Computation**\n",
    "\n",
    "by\n",
    "\n",
    "Alexey Andreyevich Radul\n",
    "\n",
    "MIT 2009"
   ]
  },
  {
   "cell_type": "markdown",
   "id": "5fdd9789-2ca4-4df5-8d17-8e6397dcd204",
   "metadata": {
    "tags": []
   },
   "source": [
    "## The situation\n",
    "\n",
    "- lots of graphs everywhere:\n",
    "    - concurrency (*Dask*)\n",
    "    - dependency tracking (*easyCore*)\n",
    "    - provenance (*AiiDA*)\n",
    "    - functional reactive programming (*Plopp*)\n",
    "    - logic programming (*Prolog*)\n",
    "    - constraint satisfaction\n",
    "    - ...\n",
    "    \n",
    "- What do all of these have in common?\n",
    "    \n",
    "    <span style='color: #1976d2'>Relaxed / no notion of time</span>"
   ]
  },
  {
   "cell_type": "markdown",
   "id": "deded7fe-40f5-453c-ad1d-6a285d5ad11f",
   "metadata": {
    "tags": []
   },
   "source": [
    "## Can we unify implementations?\n",
    "\n",
    "- Yes*: Propagation networks\n",
    "\n",
    "- Graphs:\n",
    "    - Nodes = 'Cells'\n",
    "    - Edges = 'Propagators'"
   ]
  },
  {
   "cell_type": "markdown",
   "id": "9c9a5789-4eed-4d72-85c0-62ed20206b8d",
   "metadata": {
    "tags": []
   },
   "source": [
    "## Cells\n",
    "\n",
    "- Accumulate information\n",
    "- Can have incomplete information\n",
    "- Never forget"
   ]
  },
  {
   "cell_type": "markdown",
   "id": "51ba7b2c-43cb-473f-b34b-0f81c32539f0",
   "metadata": {
    "tags": []
   },
   "source": [
    "## Propagators\n",
    "\n",
    "- read data from cells, store results into cells\n",
    "- properties:\n",
    "    - asynchronous\n",
    "    - autonomous\n",
    "    - stateless\n",
    "    - always on"
   ]
  },
  {
   "cell_type": "markdown",
   "id": "6074a5dd-f7e9-4920-b1a1-2894276cb1ad",
   "metadata": {
    "tags": []
   },
   "source": [
    "## How do we run this?\n",
    "\n",
    "- Simple scheduler:\n",
    "    - If a cell gets new content, run all propagators reading from that cell.\n",
    "    - Run until quiescence"
   ]
  }
 ],
 "metadata": {
  "kernelspec": {
   "display_name": "Python 3 (ipykernel)",
   "language": "python",
   "name": "python3"
  },
  "language_info": {
   "codemirror_mode": {
    "name": "ipython",
    "version": 3
   },
   "file_extension": ".py",
   "mimetype": "text/x-python",
   "name": "python",
   "nbconvert_exporter": "python",
   "pygments_lexer": "ipython3",
   "version": "3.10.9"
  }
 },
 "nbformat": 4,
 "nbformat_minor": 5
}
