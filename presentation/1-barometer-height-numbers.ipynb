{
 "cells": [
  {
   "cell_type": "markdown",
   "id": "15481d97-9a07-4f16-b750-fc1449afaeb7",
   "metadata": {},
   "source": [
    "# 1 Measuring the height of a building using a barometer\n",
    "\n",
    "This example puts plain numbers into the network."
   ]
  },
  {
   "cell_type": "code",
   "execution_count": null,
   "id": "029af91d-3608-4ec3-9a16-633fcad9a5e9",
   "metadata": {
    "tags": []
   },
   "outputs": [],
   "source": [
    "from propnet import *"
   ]
  },
  {
   "cell_type": "code",
   "execution_count": null,
   "id": "c2deb610-a01b-4588-bd25-c79e6da22e5b",
   "metadata": {
    "tags": []
   },
   "outputs": [],
   "source": [
    "fall_duration_forward = \"\"\"\n",
    "flowchart LR\n",
    "    sq{{^2}}\n",
    "    times_gt2{{*}}\n",
    "    times_h{{*}}\n",
    "    half[1/2]\n",
    "    t2[t^2]\n",
    "    gt2[g*t^2]\n",
    "\n",
    "    t --> sq\n",
    "    sq --> t2\n",
    "    t2 --> times_gt2\n",
    "    g --> times_gt2\n",
    "    times_gt2 --> gt2\n",
    "    gt2 --> times_h\n",
    "    half --> times_h\n",
    "    times_h --> h\n",
    "\"\"\"\n",
    "fall_duration_bidir = \"\"\"\n",
    "flowchart LR\n",
    "    sq{{^2}}\n",
    "    times_gt2{{*}}\n",
    "    times_h{{*}}\n",
    "    half[1/2]\n",
    "    t2[t^2]\n",
    "    gt2[g*t^2]\n",
    "\n",
    "    t <--> sq\n",
    "    sq <--> t2\n",
    "    t2 <--> times_gt2\n",
    "    g <--> times_gt2\n",
    "    times_gt2 <--> gt2\n",
    "    gt2 <--> times_h\n",
    "    half <--> times_h\n",
    "    times_h <--> h\n",
    "\"\"\"\n",
    "bidir_times = \"\"\"\n",
    "flowchart TB\n",
    "    subgraph implementation\n",
    "    direction LR\n",
    "    *{*}\n",
    "    div1{/}\n",
    "    div2{/}\n",
    "    \n",
    "    a --> *\n",
    "    b --> *\n",
    "    * --> c\n",
    "    a --> div1\n",
    "    c --> div1\n",
    "    div1 --> b\n",
    "    b --> div2\n",
    "    c --> div2\n",
    "    div2 --> a\n",
    "    end\n",
    "    \n",
    "    subgraph times\n",
    "    direction LR\n",
    "    aa[a]\n",
    "    bb[b]\n",
    "    cc[c]\n",
    "    **{{*}}\n",
    "    \n",
    "    aa <--> **\n",
    "    bb <--> **\n",
    "    ** <--> cc\n",
    "    end\n",
    "\"\"\"\n",
    "shadows = \"\"\"\n",
    "flowchart LR\n",
    "    times_hba{{*}}\n",
    "    times_h{{*}}\n",
    "    ratio[hba/sba]\n",
    "\n",
    "    sba <--> times_hba\n",
    "    ratio <--> times_hba\n",
    "    times_hba <--> hba\n",
    "    s <--> times_h\n",
    "    ratio <--> times_h\n",
    "    times_h <--> h\n",
    "\"\"\""
   ]
  },
  {
   "cell_type": "markdown",
   "id": "eddea52e-a1aa-4bbd-acfc-6ff1948b6195",
   "metadata": {},
   "source": [
    "## Solution 1 Dropping the barometer off the roof\n",
    "\n",
    "By Niels Bohr.\n",
    "Building height:\n",
    "$$\n",
    "h = \\frac{1}{2} g t^2\n",
    "$$"
   ]
  },
  {
   "cell_type": "code",
   "execution_count": null,
   "id": "61e47303-e000-4f4e-afe4-a5ea9bd107c9",
   "metadata": {
    "tags": []
   },
   "outputs": [],
   "source": [
    "mermaid(fall_duration_forward)"
   ]
  },
  {
   "cell_type": "markdown",
   "id": "9e9c01cf-fdc2-4491-b38a-bd7906d0b9d3",
   "metadata": {},
   "source": [
    "Make it bidirectional:"
   ]
  },
  {
   "cell_type": "code",
   "execution_count": null,
   "id": "5e4fb84d-b532-4e53-aa3a-60a6b133f807",
   "metadata": {
    "tags": []
   },
   "outputs": [],
   "source": [
    "mermaid(fall_duration_bidir)\n",
    "mermaid(bidir_times)"
   ]
  },
  {
   "cell_type": "code",
   "execution_count": null,
   "id": "ba36b33d-ad74-4de7-a910-df83debc3c17",
   "metadata": {
    "tags": []
   },
   "outputs": [],
   "source": [
    "net = Network()\n",
    "g = net.add_cell('g', Cell(Datum(9.81)))\n",
    "half = net.add_cell('half', Cell(Datum(0.5)))\n",
    "t2 = net.add_cell('t^2', Cell())\n",
    "gt2 = net.add_cell('gt^2', Cell())\n",
    "t = net.add_cell('t', Cell())\n",
    "h = net.add_cell('h', Cell())\n",
    "\n",
    "quadratic(t, t2, net=net)\n",
    "product_(g, t2, gt2, net=net)\n",
    "product_(half, gt2, h, net=net)"
   ]
  },
  {
   "cell_type": "code",
   "execution_count": null,
   "id": "2b58b0d3-9ee3-4733-8914-8d02a10be784",
   "metadata": {
    "tags": []
   },
   "outputs": [],
   "source": [
    "net['t'].add_content(Datum(value=2.9), net=net)"
   ]
  },
  {
   "cell_type": "code",
   "execution_count": null,
   "id": "86186072-4565-48af-8944-be272e00ae9a",
   "metadata": {
    "tags": []
   },
   "outputs": [],
   "source": [
    "net.run()"
   ]
  },
  {
   "cell_type": "code",
   "execution_count": null,
   "id": "cfe76852-32df-4b56-bb65-d0e7831264d6",
   "metadata": {
    "tags": []
   },
   "outputs": [],
   "source": [
    "print('h =', net['h'])"
   ]
  }
 ],
 "metadata": {
  "kernelspec": {
   "display_name": "Python 3 (ipykernel)",
   "language": "python",
   "name": "python3"
  },
  "language_info": {
   "codemirror_mode": {
    "name": "ipython",
    "version": 3
   },
   "file_extension": ".py",
   "mimetype": "text/x-python",
   "name": "python",
   "nbconvert_exporter": "python",
   "pygments_lexer": "ipython3",
   "version": "3.10.9"
  }
 },
 "nbformat": 4,
 "nbformat_minor": 5
}
